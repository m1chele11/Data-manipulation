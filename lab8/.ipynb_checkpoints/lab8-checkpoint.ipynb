{
 "cells": [
  {
   "cell_type": "markdown",
   "id": "490f0fc4-b90c-480d-9a44-f6e5afc33481",
   "metadata": {},
   "source": [
    "**Part 1:**\n"
   ]
  },
  {
   "cell_type": "code",
   "execution_count": 4,
   "id": "14615526-3cb7-4c54-89d8-69c6e706dcb2",
   "metadata": {},
   "outputs": [
    {
     "name": "stdout",
     "output_type": "stream",
     "text": [
      "  Country name Regional indicator  Ladder score  \\\n",
      "0      Finland     Western Europe         7.842   \n",
      "1      Denmark     Western Europe         7.620   \n",
      "2  Switzerland     Western Europe         7.571   \n",
      "3      Iceland     Western Europe         7.554   \n",
      "4  Netherlands     Western Europe         7.464   \n",
      "\n",
      "   Standard error of ladder score  upperwhisker  lowerwhisker  \\\n",
      "0                           0.032         7.904         7.780   \n",
      "1                           0.035         7.687         7.552   \n",
      "2                           0.036         7.643         7.500   \n",
      "3                           0.059         7.670         7.438   \n",
      "4                           0.027         7.518         7.410   \n",
      "\n",
      "   Logged GDP per capita  Social support  Healthy life expectancy  \\\n",
      "0                 10.775           0.954                     72.0   \n",
      "1                 10.933           0.954                     72.7   \n",
      "2                 11.117           0.942                     74.4   \n",
      "3                 10.878           0.983                     73.0   \n",
      "4                 10.932           0.942                     72.4   \n",
      "\n",
      "   Freedom to make life choices  Generosity  Perceptions of corruption  \\\n",
      "0                         0.949      -0.098                      0.186   \n",
      "1                         0.946       0.030                      0.179   \n",
      "2                         0.919       0.025                      0.292   \n",
      "3                         0.955       0.160                      0.673   \n",
      "4                         0.913       0.175                      0.338   \n",
      "\n",
      "   Ladder score in Dystopia  Explained by: Log GDP per capita  \\\n",
      "0                      2.43                             1.446   \n",
      "1                      2.43                             1.502   \n",
      "2                      2.43                             1.566   \n",
      "3                      2.43                             1.482   \n",
      "4                      2.43                             1.501   \n",
      "\n",
      "   Explained by: Social support  Explained by: Healthy life expectancy  \\\n",
      "0                         1.106                                  0.741   \n",
      "1                         1.108                                  0.763   \n",
      "2                         1.079                                  0.816   \n",
      "3                         1.172                                  0.772   \n",
      "4                         1.079                                  0.753   \n",
      "\n",
      "   Explained by: Freedom to make life choices  Explained by: Generosity  \\\n",
      "0                                       0.691                     0.124   \n",
      "1                                       0.686                     0.208   \n",
      "2                                       0.653                     0.204   \n",
      "3                                       0.698                     0.293   \n",
      "4                                       0.647                     0.302   \n",
      "\n",
      "   Explained by: Perceptions of corruption  Dystopia + residual  \n",
      "0                                    0.481                3.253  \n",
      "1                                    0.485                2.868  \n",
      "2                                    0.413                2.839  \n",
      "3                                    0.170                2.967  \n",
      "4                                    0.384                2.798  \n"
     ]
    }
   ],
   "source": [
    "import pandas as pd\n",
    "import numpy as np\n",
    "from scipy import stats\n",
    "\n",
    "file = '2021.csv'\n",
    "df = pd.read_csv(file)\n",
    "\n",
    "print(df.head())"
   ]
  },
  {
   "cell_type": "markdown",
   "id": "2d8b61b5-c117-40d3-96a3-4ef876417351",
   "metadata": {},
   "source": [
    "**Part 2:**"
   ]
  },
  {
   "cell_type": "code",
   "execution_count": 5,
   "id": "9fa39d1e-206f-47e4-960e-e239e0502a23",
   "metadata": {},
   "outputs": [
    {
     "name": "stdout",
     "output_type": "stream",
     "text": [
      "       Ladder score  Standard error of ladder score  upperwhisker  \\\n",
      "count    149.000000                      149.000000    149.000000   \n",
      "mean       5.532839                        0.058752      5.648007   \n",
      "std        1.073924                        0.022001      1.054330   \n",
      "min        2.523000                        0.026000      2.596000   \n",
      "25%        4.852000                        0.043000      4.991000   \n",
      "50%        5.534000                        0.054000      5.625000   \n",
      "75%        6.255000                        0.070000      6.344000   \n",
      "max        7.842000                        0.173000      7.904000   \n",
      "\n",
      "       lowerwhisker  Logged GDP per capita  Social support  \\\n",
      "count    149.000000             149.000000      149.000000   \n",
      "mean       5.417631               9.432208        0.814745   \n",
      "std        1.094879               1.158601        0.114889   \n",
      "min        2.449000               6.635000        0.463000   \n",
      "25%        4.706000               8.541000        0.750000   \n",
      "50%        5.413000               9.569000        0.832000   \n",
      "75%        6.128000              10.421000        0.905000   \n",
      "max        7.780000              11.647000        0.983000   \n",
      "\n",
      "       Healthy life expectancy  Freedom to make life choices  Generosity  \\\n",
      "count               149.000000                    149.000000  149.000000   \n",
      "mean                 64.992799                      0.791597   -0.015134   \n",
      "std                   6.762043                      0.113332    0.150657   \n",
      "min                  48.478000                      0.382000   -0.288000   \n",
      "25%                  59.802000                      0.718000   -0.126000   \n",
      "50%                  66.603000                      0.804000   -0.036000   \n",
      "75%                  69.600000                      0.877000    0.079000   \n",
      "max                  76.953000                      0.970000    0.542000   \n",
      "\n",
      "       Perceptions of corruption  Ladder score in Dystopia  \\\n",
      "count                 149.000000              1.490000e+02   \n",
      "mean                    0.727450              2.430000e+00   \n",
      "std                     0.179226              5.347044e-15   \n",
      "min                     0.082000              2.430000e+00   \n",
      "25%                     0.667000              2.430000e+00   \n",
      "50%                     0.781000              2.430000e+00   \n",
      "75%                     0.845000              2.430000e+00   \n",
      "max                     0.939000              2.430000e+00   \n",
      "\n",
      "       Explained by: Log GDP per capita  Explained by: Social support  \\\n",
      "count                        149.000000                    149.000000   \n",
      "mean                           0.977161                      0.793315   \n",
      "std                            0.404740                      0.258871   \n",
      "min                            0.000000                      0.000000   \n",
      "25%                            0.666000                      0.647000   \n",
      "50%                            1.025000                      0.832000   \n",
      "75%                            1.323000                      0.996000   \n",
      "max                            1.751000                      1.172000   \n",
      "\n",
      "       Explained by: Healthy life expectancy  \\\n",
      "count                             149.000000   \n",
      "mean                                0.520161   \n",
      "std                                 0.213019   \n",
      "min                                 0.000000   \n",
      "25%                                 0.357000   \n",
      "50%                                 0.571000   \n",
      "75%                                 0.665000   \n",
      "max                                 0.897000   \n",
      "\n",
      "       Explained by: Freedom to make life choices  Explained by: Generosity  \\\n",
      "count                                  149.000000                149.000000   \n",
      "mean                                     0.498711                  0.178047   \n",
      "std                                      0.137888                  0.098270   \n",
      "min                                      0.000000                  0.000000   \n",
      "25%                                      0.409000                  0.105000   \n",
      "50%                                      0.514000                  0.164000   \n",
      "75%                                      0.603000                  0.239000   \n",
      "max                                      0.716000                  0.541000   \n",
      "\n",
      "       Explained by: Perceptions of corruption  Dystopia + residual  \n",
      "count                               149.000000           149.000000  \n",
      "mean                                  0.135141             2.430329  \n",
      "std                                   0.114361             0.537645  \n",
      "min                                   0.000000             0.648000  \n",
      "25%                                   0.060000             2.138000  \n",
      "50%                                   0.101000             2.509000  \n",
      "75%                                   0.174000             2.794000  \n",
      "max                                   0.547000             3.482000  \n"
     ]
    }
   ],
   "source": [
    "descriptive_stats = df.describe()\n",
    "print(descriptive_stats)"
   ]
  },
  {
   "cell_type": "markdown",
   "id": "2d8aeff1-d5a2-4a2e-b803-8e59249095e0",
   "metadata": {},
   "source": [
    "**part 3:**"
   ]
  },
  {
   "cell_type": "code",
   "execution_count": 9,
   "id": "85d4d054-82b4-4d4b-96df-28c3ac91e985",
   "metadata": {},
   "outputs": [
    {
     "name": "stdout",
     "output_type": "stream",
     "text": [
      "95% Confidence interval for the global Ladder Score: (5.358981158132273, 5.706696694216721)\n"
     ]
    }
   ],
   "source": [
    "#2\n",
    "ladder_scores = df['Ladder score']\n",
    "\n",
    "mean_score = np.mean(ladder_scores)\n",
    "sem = stats.sem(ladder_scores)\n",
    "confidence_level = 0.95\n",
    "confidence_interval = stats.t.interval(confidence_level, len(ladder_scores) - 1, loc=mean_score, scale=sem)\n",
    "\n",
    "print(f\"95% Confidence interval for the global Ladder Score: {confidence_interval}\")"
   ]
  },
  {
   "cell_type": "code",
   "execution_count": 16,
   "id": "162ef47a-53d5-4b6b-b160-c3f6422b1b96",
   "metadata": {},
   "outputs": [
    {
     "name": "stdout",
     "output_type": "stream",
     "text": [
      "\n",
      "95% Confidence intervals for the average Ladder Score within each region:\n",
      "                    Regional indicator              level_1  \\\n",
      "0           Central and Eastern Europe    Mean Ladder Score   \n",
      "1           Central and Eastern Europe  Confidence Interval   \n",
      "2   Commonwealth of Independent States    Mean Ladder Score   \n",
      "3   Commonwealth of Independent States  Confidence Interval   \n",
      "4                            East Asia    Mean Ladder Score   \n",
      "5                            East Asia  Confidence Interval   \n",
      "6          Latin America and Caribbean    Mean Ladder Score   \n",
      "7          Latin America and Caribbean  Confidence Interval   \n",
      "8         Middle East and North Africa    Mean Ladder Score   \n",
      "9         Middle East and North Africa  Confidence Interval   \n",
      "10               North America and ANZ    Mean Ladder Score   \n",
      "11               North America and ANZ  Confidence Interval   \n",
      "12                          South Asia    Mean Ladder Score   \n",
      "13                          South Asia  Confidence Interval   \n",
      "14                      Southeast Asia    Mean Ladder Score   \n",
      "15                      Southeast Asia  Confidence Interval   \n",
      "16                  Sub-Saharan Africa    Mean Ladder Score   \n",
      "17                  Sub-Saharan Africa  Confidence Interval   \n",
      "18                      Western Europe    Mean Ladder Score   \n",
      "19                      Western Europe  Confidence Interval   \n",
      "\n",
      "                               Ladder score  \n",
      "0                                  5.984765  \n",
      "1   (5.731120194902151, 6.2384092168625545)  \n",
      "2                                     5.467  \n",
      "3    (5.188634369057712, 5.745365630942287)  \n",
      "4                                  5.810333  \n",
      "5   (5.348672452790259, 6.2719942138764075)  \n",
      "6                                   5.90805  \n",
      "7    (5.5834974921930485, 6.23260250780695)  \n",
      "8                                  5.219765  \n",
      "9    (4.705993035289332, 5.733536376475374)  \n",
      "10                                   7.1285  \n",
      "11   (6.908820900450606, 7.348179099549395)  \n",
      "12                                 4.441857  \n",
      "13   (3.523058316525397, 5.360655969188889)  \n",
      "14                                 5.407556  \n",
      "15   (4.941534251240006, 5.873576859871106)  \n",
      "16                                 4.494472  \n",
      "17   (4.272888653358554, 4.716055791085892)  \n",
      "18                                 6.914905  \n",
      "19  (6.616060690393276, 7.2137488334162505)  \n"
     ]
    }
   ],
   "source": [
    "#3\n",
    "def calculate_confidence_interval(group):\n",
    "    mean = group.mean()  \n",
    "    sem = stats.sem(group)  \n",
    "    ci = stats.t.interval(0.95, len(group) - 1, loc=mean, scale=sem)  \n",
    "    return pd.Series({'Mean Ladder Score': mean, 'Confidence Interval': ci})\n",
    "\n",
    "regional_stats = df.groupby('Regional indicator')['Ladder score'].apply(calculate_confidence_interval).reset_index()\n",
    "\n",
    "print(\"\\n95% Confidence intervals for the average Ladder Score within each region:\")\n",
    "print(regional_stats)"
   ]
  },
  {
   "cell_type": "code",
   "execution_count": 17,
   "id": "5ddba358-4b0d-46dc-b9e9-cd2a1add619c",
   "metadata": {},
   "outputs": [
    {
     "name": "stdout",
     "output_type": "stream",
     "text": [
      "\n",
      "Global Ladder Score Mean: 5.532838926174497\n",
      "90% Confidence interval for the global Ladder Score: (5.387214401072244, 5.67846345127675)\n",
      "99% Confidence interval for the global Ladder Score: (5.303260924288216, 5.762416928060778)\n"
     ]
    }
   ],
   "source": [
    "#4\n",
    "def calculate_confidence_interval(data, confidence_level):\n",
    "    mean = np.mean(data)  \n",
    "    sem = stats.sem(data)  \n",
    "    ci = stats.t.interval(confidence_level, len(data) - 1, loc=mean, scale=sem)  \n",
    "    return mean, ci\n",
    "\n",
    "mean_score, ci_90 = calculate_confidence_interval(ladder_scores, 0.90)\n",
    "mean_score, ci_99 = calculate_confidence_interval(ladder_scores, 0.99)\n",
    "\n",
    "print(f\"\\nGlobal Ladder Score Mean: {mean_score}\")\n",
    "print(f\"90% Confidence interval for the global Ladder Score: {ci_90}\")\n",
    "print(f\"99% Confidence interval for the global Ladder Score: {ci_99}\")"
   ]
  },
  {
   "cell_type": "markdown",
   "id": "a48b06ba-72e8-490a-bbd8-a00b919536e9",
   "metadata": {},
   "source": [
    "**Part 4:**"
   ]
  },
  {
   "cell_type": "markdown",
   "id": "55aca83f-64c8-4ffb-8880-0842583a80fc",
   "metadata": {},
   "source": [
    "**5**:\n",
    "- a: This means that we can be 95% sure that the actual happiness of all countries falls between 4.5 and 5\n",
    "- b: A region with smaller confidence score means that the happiness is more consistent in that country, and if the score is higher then that means that there is a greater variability and difference in happiness in that country.\n",
    "- c: when we lower the confidence score we get a more precise range of score with less variability, and the opposie when we increase it. "
   ]
  },
  {
   "cell_type": "markdown",
   "id": "9cbe92e2-6859-4b6a-8ee2-2ad8e3f1fe4e",
   "metadata": {},
   "source": [
    "**6**:\n",
    "Governments can effectively utilize confidence intervals derived from happiness scores to prioritize areas for improvement by focusing on regions with significant disparities in well-being. By identifying areas where happiness scores show wide variability, policymakers can tailor interventions to address specific issues, such as economic instability or inadequate healthcare. This data-driven approach enables targeted resource allocation, fosters community engagement, and establishes benchmarks for monitoring progress. Ultimately, leveraging these insights allows governments to implement more effective policies that enhance overall citizen happiness and well-being, contributing to long-term social and economic stability."
   ]
  },
  {
   "cell_type": "markdown",
   "id": "b602567c-1c55-44ff-a46c-f137f4e42108",
   "metadata": {},
   "source": [
    "**7:**\n",
    "Understandng and utilizing cofidence intervals are essential in policy-making and research, as they enhance decision-making by providing insights into the reliability and precision of estimates. CIs help identify trends and variability within populations, revealing disparities that may require targeted interventions. Additionally, they guide resource allocation by highlighting areas with greater need or variability, ensuring that investments are strategically directed toward those most in need. Ultimately, incorporating confidence intervals into analysis fosters more informed, effective, and equitable policy decisions, leading to improved outcomes for society as a whole."
   ]
  },
  {
   "cell_type": "code",
   "execution_count": null,
   "id": "2abb6d7a-48bf-4b41-9c82-75eb08377478",
   "metadata": {},
   "outputs": [],
   "source": []
  }
 ],
 "metadata": {
  "kernelspec": {
   "display_name": "Python 3 (ipykernel)",
   "language": "python",
   "name": "python3"
  },
  "language_info": {
   "codemirror_mode": {
    "name": "ipython",
    "version": 3
   },
   "file_extension": ".py",
   "mimetype": "text/x-python",
   "name": "python",
   "nbconvert_exporter": "python",
   "pygments_lexer": "ipython3",
   "version": "3.12.4"
  }
 },
 "nbformat": 4,
 "nbformat_minor": 5
}

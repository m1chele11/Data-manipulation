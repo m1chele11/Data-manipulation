{
 "cells": [
  {
   "cell_type": "markdown",
   "id": "2b8b0108-9439-4a23-ad2a-a9a5de2924a1",
   "metadata": {},
   "source": [
    "# Datasets:"
   ]
  },
  {
   "cell_type": "code",
   "execution_count": null,
   "id": "32aea2b2-6d4e-44d1-88aa-e1d0b6cf123a",
   "metadata": {},
   "outputs": [],
   "source": []
  },
  {
   "cell_type": "markdown",
   "id": "08b2a1d6-da31-408a-841d-c0f231a03716",
   "metadata": {},
   "source": [
    "# Potential Questions or Topics:"
   ]
  },
  {
   "cell_type": "markdown",
   "id": "672eb96c-1363-4051-8309-20ec1827b709",
   "metadata": {},
   "source": [
    "# Data Outline:"
   ]
  },
  {
   "cell_type": "markdown",
   "id": "96babfe3-81c6-4c7b-94c4-87cc505c2fb0",
   "metadata": {},
   "source": [
    "**Name**\n",
    "This column represents the name of the patient associated with the healthcare record.\n",
    "\n",
    "**Age:**  \n",
    "The age of the patient at the time of admission, expressed in years.\n",
    "\n",
    "**Gender:**  \n",
    "Indicates the gender of the patient, either \"Male\" or \"Female.\"\n",
    "\n",
    "**Blood Type:**  \n",
    "The patient's blood type, which can be one of the common blood types (e.g., \"A+\", \"O-\", etc.).\n",
    "\n",
    "**Medical Condition:**  \n",
    "This column specifies the primary medical condition or diagnosis associated with the patient, such as \"Diabetes,\" \"Hypertension,\" \"Asthma,\" and more.\n",
    "\n",
    "**Date of Admission:**  \n",
    "The date on which the patient was admitted to the healthcare facility.\n",
    "\n",
    "**Doctor:**  \n",
    "The name of the doctor responsible for the patient's care during their admission.\n",
    "\n",
    "**Hospital:**  \n",
    "Identifies the healthcare facility or hospital where the patient was admitted.\n",
    "\n",
    "**Insurance Provider:**  \n",
    "This column indicates the patient's insurance provider, which can be one of several options, including \"Aetna,\" \"Blue Cross,\" \"Cigna,\" \"UnitedHealthcare,\" and \"Medicare.\"\n",
    "\n",
    "**Billing Amount:**  \n",
    "The amount of money billed for the patient's healthcare services during their admission. This is expressed as a floating-point number.\n",
    "\n",
    "**Room Number:**  \n",
    "The room number where the patient was accommodated during their admission.\n",
    "\n",
    "**Admission Type:**  \n",
    "Specifies the type of admission, which can be \"Emergency,\" \"Elective,\" or \"Urgent,\" reflecting the circumstances of the admission.\n",
    "\n",
    "**Discharge Date:**  \n",
    "The date on which the patient was discharged from the healthcare facility, based on the admission date and a random number of days within a realistic range.\n",
    "\n",
    "**Medication:**  \n",
    "Identifies a medication prescribed or administered to the patient during their admission. Examples include \"Aspirin,\" \"Ibuprofen,\" \"Penicillin,\" \"Paracetamol,\" and \"Lipitor.\"\n",
    "\n",
    "**Test Results:**  \n",
    "Describes the results of a medical test conducted during the patient's admission. Possible values include \"Normal,\" \"Abnormal,\" or \"Inconclusive,\" indicating the outcome of the test.\n"
   ]
  },
  {
   "cell_type": "code",
   "execution_count": null,
   "id": "571258e8-0b3b-4a13-b274-7bc6a232fac8",
   "metadata": {},
   "outputs": [],
   "source": []
  }
 ],
 "metadata": {
  "kernelspec": {
   "display_name": "Python 3 (ipykernel)",
   "language": "python",
   "name": "python3"
  },
  "language_info": {
   "codemirror_mode": {
    "name": "ipython",
    "version": 3
   },
   "file_extension": ".py",
   "mimetype": "text/x-python",
   "name": "python",
   "nbconvert_exporter": "python",
   "pygments_lexer": "ipython3",
   "version": "3.12.4"
  }
 },
 "nbformat": 4,
 "nbformat_minor": 5
}
